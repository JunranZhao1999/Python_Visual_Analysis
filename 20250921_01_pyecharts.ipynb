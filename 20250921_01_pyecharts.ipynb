{
 "cells": [
  {
   "cell_type": "markdown",
   "id": "12aa5485-f4e5-487c-9693-3498d3241955",
   "metadata": {},
   "source": [
    "### 绘制条形图"
   ]
  },
  {
   "cell_type": "code",
   "execution_count": 1,
   "id": "58ec1477-5d6f-4e26-b10c-b5714133924a",
   "metadata": {},
   "outputs": [
    {
     "data": {
      "text/plain": [
       "'/Users/zhaojunran/Documents/Python_data_visualize/02_pyecharts/render.html'"
      ]
     },
     "execution_count": 1,
     "metadata": {},
     "output_type": "execute_result"
    }
   ],
   "source": [
    "# Assistant\n",
    "# First, make sure to import the necessary libraries\n",
    "from pyecharts.charts import Bar\n",
    "from pyecharts import options as opts\n",
    "\n",
    "# Create an instance of the Bar class\n",
    "bar = Bar()  # This creates an instance of Bar, not just a reference to the class\n",
    "\n",
    "# Now use the instance methods\n",
    "bar.add_xaxis([\"衬衫\", \"毛衣\", \"领带\", \"裤子\", \"风衣\", \"高跟鞋\", \"袜子\"])\n",
    "bar.add_yaxis(\"\", [114, 55, 27, 101, 125, 27, 105])\n",
    "bar.set_global_opts(title_opts=opts.TitleOpts(title=\"某商场销售情况\"))\n",
    "bar.render()"
   ]
  },
  {
   "cell_type": "code",
   "execution_count": 2,
   "id": "15ee270f-b1b8-4791-bf20-ac9fb8679c52",
   "metadata": {},
   "outputs": [
    {
     "data": {
      "text/plain": [
       "'/Users/zhaojunran/Documents/Python_data_visualize/02_pyecharts/render.html'"
      ]
     },
     "execution_count": 2,
     "metadata": {},
     "output_type": "execute_result"
    }
   ],
   "source": [
    "# 链式调用\n",
    "bar = (Bar()\n",
    "       .add_xaxis([\"衬衫\", \"毛衣\", \"领带\", \"裤子\", \"风衣\", \"高跟鞋\", \"袜子\"])\n",
    "       .add_yaxis(\"\", [114, 55, 27, 101, 125, 27, 105])\n",
    "       .set_global_opts(title_opts=opts.TitleOpts(title=\"某商场销售情况\")))\n",
    "bar.render()"
   ]
  },
  {
   "cell_type": "code",
   "execution_count": 3,
   "id": "df26a1f1-c204-43f4-b4aa-735cd47a0551",
   "metadata": {},
   "outputs": [
    {
     "data": {
      "text/plain": [
       "'/Users/zhaojunran/Documents/Python_data_visualize/02_pyecharts/render.html'"
      ]
     },
     "execution_count": 3,
     "metadata": {},
     "output_type": "execute_result"
    }
   ],
   "source": [
    "# 多个类的柱状图+链式调用\n",
    "bar = (Bar()\n",
    "       .add_xaxis([\"衬衫\", \"毛衣\", \"领带\", \"裤子\", \"风衣\", \"高跟鞋\", \"袜子\"])\n",
    "       .add_yaxis(\"A\", [114, 55, 27, 101, 125, 27, 105])\n",
    "       .add_yaxis(\"B\",[57, 134, 137, 129, 145, 60, 49])\n",
    "       .set_global_opts(title_opts=opts.TitleOpts(title=\"某商场销售情况\")))\n",
    "bar.render()"
   ]
  },
  {
   "cell_type": "code",
   "execution_count": 4,
   "id": "cfdd8800-ffdf-40c8-aeff-8d74a83b9a5b",
   "metadata": {},
   "outputs": [
    {
     "data": {
      "text/plain": [
       "'/Users/zhaojunran/Documents/Python_data_visualize/02_pyecharts/render.html'"
      ]
     },
     "execution_count": 4,
     "metadata": {},
     "output_type": "execute_result"
    }
   ],
   "source": [
    "# 多个类的柱状图+链式调用\n",
    "bar = (Bar()\n",
    "       .add_xaxis([\"衬衫\", \"毛衣\", \"领带\", \"裤子\", \"风衣\", \"高跟鞋\", \"袜子\"])\n",
    "       .add_yaxis(\"A\", [114, 55, 27, 101, 125, 27, 105])\n",
    "       .add_yaxis(\"B\",[57, 134, 137, 129, 145, 60, 49])\n",
    "       .add_yaxis(\"C\",[57, 134, 137, 129, 145, 60, 49])\n",
    "       .set_global_opts(title_opts=opts.TitleOpts(title=\"某商场销售情况\",subtitle='A,B,C')))\n",
    "bar.render()"
   ]
  },
  {
   "cell_type": "code",
   "execution_count": 5,
   "id": "822a7e85-ca06-4874-9814-111e9b55c6b8",
   "metadata": {},
   "outputs": [
    {
     "data": {
      "text/plain": [
       "'/Users/zhaojunran/Documents/Python_data_visualize/02_pyecharts/render.html'"
      ]
     },
     "execution_count": 5,
     "metadata": {},
     "output_type": "execute_result"
    }
   ],
   "source": [
    "# 水平向柱状图的绘制\n",
    "bar = (Bar()\n",
    "       .add_xaxis([\"衬衫\", \"毛衣\", \"领带\", \"裤子\", \"风衣\", \"高跟鞋\", \"袜子\"])\n",
    "       .add_yaxis(\"A\", [114, 55, 27, 101, 125, 27, 105])\n",
    "       .add_yaxis(\"B\", [57, 134, 137, 129, 145, 60, 49])\n",
    "       .add_yaxis(\"C\", [57, 134, 137, 129, 145, 60, 49])\n",
    "       .set_global_opts(title_opts=opts.TitleOpts(title=\"某商场销售情况\",subtitle='A,B,C'),\n",
    "                        toolbox_opts=opts.ToolboxOpts(is_show = True))\n",
    "       .set_series_opts(label_opts=opts.LabelOpts(position = \"right\"))\n",
    "       .reversal_axis())\n",
    "bar.render()"
   ]
  },
  {
   "cell_type": "code",
   "execution_count": 6,
   "id": "55b25c26-b9fc-476d-a01d-cdda014b4924",
   "metadata": {},
   "outputs": [
    {
     "data": {
      "text/plain": [
       "'/Users/zhaojunran/Documents/Python_data_visualize/02_pyecharts/render.html'"
      ]
     },
     "execution_count": 6,
     "metadata": {},
     "output_type": "execute_result"
    }
   ],
   "source": [
    "# 水平向柱状图的绘制\n",
    "bar = (Bar()\n",
    "       .add_xaxis([\"衬衫\", \"毛衣\", \"领带\", \"裤子\", \"风衣\", \"高跟鞋\", \"袜子\"])\n",
    "       .add_yaxis(\"A\", [114, 55, 27, 101, 125, 27, 105])\n",
    "       .add_yaxis(\"B\", [57, 134, 137, 129, 145, 60, 49])\n",
    "       .add_yaxis(\"C\", [57, 134, 137, 129, 145, 60, 49])\n",
    "       .set_global_opts(title_opts=opts.TitleOpts(title=\"某商场销售情况\",subtitle='A,B,C'),\n",
    "                        toolbox_opts=opts.ToolboxOpts(is_show = False))\n",
    "       .set_series_opts(label_opts=opts.LabelOpts(position = \"right\"))\n",
    "       .reversal_axis())\n",
    "bar.render()"
   ]
  },
  {
   "cell_type": "code",
   "execution_count": 7,
   "id": "8e1f8052-1ce0-4131-a4d8-7b5d3d905e99",
   "metadata": {},
   "outputs": [
    {
     "data": {
      "text/plain": [
       "'/Users/zhaojunran/Documents/Python_data_visualize/02_pyecharts/render.html'"
      ]
     },
     "execution_count": 7,
     "metadata": {},
     "output_type": "execute_result"
    }
   ],
   "source": [
    "# 水平向柱状图的绘制\n",
    "bar = (Bar()\n",
    "       .add_xaxis([\"衬衫\", \"毛衣\", \"领带\", \"裤子\", \"风衣\", \"高跟鞋\", \"袜子\"])\n",
    "       .add_yaxis(\"A\", [114, 55, 27, 101, 125, 27, 105])\n",
    "       .add_yaxis(\"B\", [57, 134, 137, 129, 145, 60, 49])\n",
    "       .add_yaxis(\"C\", [57, 134, 137, 129, 145, 60, 49])\n",
    "       .set_global_opts(title_opts=opts.TitleOpts(title=\"某商场销售情况\",subtitle='A,B,C'),\n",
    "                        toolbox_opts=opts.ToolboxOpts(is_show = False))\n",
    "       .set_series_opts(label_opts=opts.LabelOpts(position = \"left\"))\n",
    "       .reversal_axis())\n",
    "bar.render()"
   ]
  },
  {
   "cell_type": "markdown",
   "id": "86226e34-5e76-4238-bd3d-c2c667c8d921",
   "metadata": {},
   "source": [
    "### 绘制饼状图"
   ]
  },
  {
   "cell_type": "code",
   "execution_count": 8,
   "id": "fbf98da6-64cb-4f63-9b9d-849df1a76495",
   "metadata": {},
   "outputs": [
    {
     "name": "stdout",
     "output_type": "stream",
     "text": [
      "('professor', 20)\n",
      "['professor', 20]\n",
      "('associate professor', 30)\n",
      "['associate professor', 30]\n",
      "('lecturer', 10)\n",
      "['lecturer', 10]\n",
      "('assistant-lecturer', 12)\n",
      "['assistant-lecturer', 12]\n",
      "('others', 8)\n",
      "['others', 8]\n",
      "[['professor', 20], ['associate professor', 30], ['lecturer', 10], ['assistant-lecturer', 12], ['others', 8]]\n"
     ]
    }
   ],
   "source": [
    "list_1 = ['professor','associate professor','lecturer','assistant-lecturer','others']\n",
    "list_2 = [20,30,10,12,8]\n",
    "for z in zip(list_1,list_2):\n",
    "    print(z)\n",
    "    print(list(z))\n",
    "print([list(z) for z in zip(list_1,list_2)])"
   ]
  },
  {
   "cell_type": "code",
   "execution_count": 9,
   "id": "adbc7c32-dd29-41fb-8e98-78be4b01a7f8",
   "metadata": {},
   "outputs": [
    {
     "data": {
      "text/plain": [
       "'/Users/zhaojunran/Documents/Python_data_visualize/02_pyecharts/render.html'"
      ]
     },
     "execution_count": 9,
     "metadata": {},
     "output_type": "execute_result"
    }
   ],
   "source": [
    "# 绘制饼状图\n",
    "from pyecharts.charts import Page,Pie\n",
    "from pyecharts import options as opts\n",
    "\n",
    "list_1 = ['professor','associate professor','lecturer','assistant-lecturer','others']\n",
    "list_2 = [20,30,10,12,8]\n",
    "\n",
    "pie = (Pie()\n",
    "       .add(\"\",[list(z) for z in zip(list_1,list_2)])\n",
    "       .set_global_opts(title_opts = opts.TitleOpts(title=\"Pie Chart\"))\n",
    "       .set_series_opts(label_opts = opts.LabelOpts(formatter = \"{b}:{c}\")))\n",
    "pie.render()"
   ]
  },
  {
   "cell_type": "markdown",
   "id": "e679a03a-2292-4a16-9f2d-6cff970585e2",
   "metadata": {},
   "source": [
    "### 绘制圆环图"
   ]
  },
  {
   "cell_type": "code",
   "execution_count": 10,
   "id": "a7f8c653-f1d8-4b51-b902-208a626c099b",
   "metadata": {},
   "outputs": [
    {
     "data": {
      "text/plain": [
       "'/Users/zhaojunran/Documents/Python_data_visualize/02_pyecharts/render.html'"
      ]
     },
     "execution_count": 10,
     "metadata": {},
     "output_type": "execute_result"
    }
   ],
   "source": [
    "# 绘制圆环图\n",
    "from pyecharts.charts import Page,Pie\n",
    "from pyecharts import options as opts\n",
    "\n",
    "list_1 = ['professor','associate professor','lecturer','assistant-lecturer','others']\n",
    "list_2 = [20,30,10,12,8]\n",
    "\n",
    "donut = (Pie()\n",
    "         .add(\"Donut Chart\",\n",
    "              [list(z) for z in zip(list_1,list_2)],\n",
    "              radius = [\"55%\",\"75%\"])\n",
    "         .set_global_opts(title_opts = opts.TitleOpts(title = \"Pie Radius\"),\n",
    "                          legend_opts = opts.LegendOpts(orient = \"vertical\",pos_top = \"5%\",pos_left = \"2%\"))\n",
    "         .set_series_opts(label_ops = opts.LabelOpts(formatter = \"{b}//{c}\")))\n",
    "donut.render()"
   ]
  },
  {
   "cell_type": "markdown",
   "id": "bbf8fc02-e1d4-4935-b672-6eab887b68cb",
   "metadata": {},
   "source": [
    "### 绘制玫瑰图"
   ]
  },
  {
   "cell_type": "code",
   "execution_count": 11,
   "id": "8b4d406c-a134-4d39-b9dc-20425d398125",
   "metadata": {},
   "outputs": [
    {
     "data": {
      "text/plain": [
       "'/Users/zhaojunran/Documents/Python_data_visualize/02_pyecharts/render.html'"
      ]
     },
     "execution_count": 11,
     "metadata": {},
     "output_type": "execute_result"
    }
   ],
   "source": [
    "# 绘制2个玫瑰图\n",
    "from pyecharts.charts import Page,Pie\n",
    "from pyecharts import options as opts\n",
    "\n",
    "list_1 = ['professor','associate professor','lecturer','assistant-lecturer','others']\n",
    "list_2 = [20,30,10,12,8]\n",
    "\n",
    "c = Pie()\n",
    "c.add(\"\",[list(z) for z in zip(list_1,list_2)],\n",
    "radius=[\"40%\", \"55%\"],\n",
    "center=[240,220],\n",
    "rosetype='radius',\n",
    "is_clockwise=False)\n",
    "c.add(\"\",[list(z) for z in zip(list_1,list_2)],\n",
    "radius=[\"20%\", \"55%\"],\n",
    "center=[620,220],\n",
    "rosetype='area',\n",
    "is_clockwise=False)\n",
    "c.set_global_opts(title_opts=opts.TitleOpts(title=\"玫瑰图\"))\n",
    "c.set_series_opts(label_opts=opts.LabelOpts(formatter=\"{b}, {c}\")) \n",
    "c.render()"
   ]
  },
  {
   "cell_type": "markdown",
   "id": "44514171-936d-48f9-a72b-55cd2390d730",
   "metadata": {},
   "source": [
    "### 绘制折线图"
   ]
  },
  {
   "cell_type": "code",
   "execution_count": 12,
   "id": "ba92db9a-5a58-4896-b7ad-fbbeb27cb37b",
   "metadata": {},
   "outputs": [
    {
     "data": {
      "text/plain": [
       "'/Users/zhaojunran/Documents/Python_data_visualize/02_pyecharts/render.html'"
      ]
     },
     "execution_count": 12,
     "metadata": {},
     "output_type": "execute_result"
    }
   ],
   "source": [
    "# 绘制基础折线图\n",
    "from pyecharts.charts import Line\n",
    "from pyecharts import options\n",
    "\n",
    "# x_data，y_data都是list\n",
    "x_data = ['professor','associate professor','lecturer','assistant-lecturer','others']\n",
    "y_data = [20,30,10,12,8]\n",
    "\n",
    "line = (Line()\n",
    "        .add_xaxis(x_data)\n",
    "        .add_yaxis(\"line\",y_data)\n",
    ")\n",
    "line.render()"
   ]
  },
  {
   "cell_type": "code",
   "execution_count": 13,
   "id": "29b0d3e9-df53-44f2-9436-79205a9b6187",
   "metadata": {},
   "outputs": [
    {
     "data": {
      "text/plain": [
       "'/Users/zhaojunran/Documents/Python_data_visualize/02_pyecharts/render.html'"
      ]
     },
     "execution_count": 13,
     "metadata": {},
     "output_type": "execute_result"
    }
   ],
   "source": [
    "# 绘制折线面积图\n",
    "from pyecharts.charts import Line\n",
    "from pyecharts import options as opts\n",
    "\n",
    "num = ['星期一','星期二','星期三','星期四','星期五']\n",
    "L1 = [10,55,5,30,21]\n",
    "L2 = [20,25,35,35,12]\n",
    "\n",
    "table = (Line()\n",
    "         .add_xaxis(num)\n",
    "         .add_yaxis(\"火车站客流量\",L1,is_smooth = True)\n",
    "         .add_yaxis(\"汽车站客流量\",L2,is_smooth = True)\n",
    "\n",
    "         .set_global_opts(title_opts = opts.TitleOpts(title = \"客流量\"),\n",
    "                          xaxis_opts = opts.AxisOpts(axistick_opts = opts.AxisTickOpts(is_align_with_label = True),\n",
    "                                                    is_scale = False,\n",
    "                                                    boundary_gap = False))\n",
    "         .set_series_opts(areastyle_opts = opts.AreaStyleOpts(opacity = 0.3),\n",
    "                         label_opts = opts.LabelOpts(is_show = False))\n",
    ")\n",
    "table.render()"
   ]
  },
  {
   "cell_type": "markdown",
   "id": "662caca7-c71d-411b-966a-864a3f1013a8",
   "metadata": {},
   "source": [
    "### 绘制散点图"
   ]
  },
  {
   "cell_type": "code",
   "execution_count": 14,
   "id": "dba2130c-7a63-49eb-a099-3a4be2b67e16",
   "metadata": {},
   "outputs": [
    {
     "data": {
      "text/plain": [
       "'/Users/zhaojunran/Documents/Python_data_visualize/02_pyecharts/render.html'"
      ]
     },
     "execution_count": 14,
     "metadata": {},
     "output_type": "execute_result"
    }
   ],
   "source": [
    "# 基础散点图的绘制\n",
    "from pyecharts.charts import Scatter\n",
    "from pyecharts import options as opts\n",
    "\n",
    "num = ['星期一','星期二','星期三','星期四','星期五']\n",
    "L1 = [10,55,5,30,21]\n",
    "\n",
    "scatter = (Scatter()\n",
    "           .add_xaxis(num)\n",
    "           .add_yaxis(\"火车站客流量\",L1)\n",
    ")\n",
    "scatter.render()"
   ]
  },
  {
   "cell_type": "code",
   "execution_count": 15,
   "id": "d7f4cabe-a083-4fe1-a395-652cccbcd9d0",
   "metadata": {},
   "outputs": [
    {
     "data": {
      "text/plain": [
       "'/Users/zhaojunran/Documents/Python_data_visualize/02_pyecharts/render.html'"
      ]
     },
     "execution_count": 15,
     "metadata": {},
     "output_type": "execute_result"
    }
   ],
   "source": [
    "# 散点图 + 视觉映射配置（尺寸）\n",
    "from pyecharts.charts import Scatter\n",
    "from pyecharts import options as opts\n",
    "\n",
    "num = ['星期一','星期二','星期三','星期四','星期五']\n",
    "L1 = [10,55,5,30,21]\n",
    "L2 = [20,25,35,35,12]\n",
    "\n",
    "scatter = (Scatter()\n",
    "           .add_xaxis(num)\n",
    "           .add_yaxis(\"火车站客流量\",L1)\n",
    "           .add_yaxis(\"汽车站客流量\",L2)\n",
    "           .set_global_opts(title_opts = opts.TitleOpts(title = \"Scatter-Visual(Size)\"),\n",
    "                            visualmap_opts = opts.VisualMapOpts(type_ = \"size\",max_ = 55,min_ = 5))\n",
    ")\n",
    "\n",
    "scatter.render()"
   ]
  },
  {
   "cell_type": "code",
   "execution_count": 16,
   "id": "03e54282-c15f-49bf-b82f-938276fb7662",
   "metadata": {},
   "outputs": [
    {
     "data": {
      "text/plain": [
       "'/Users/zhaojunran/Documents/Python_data_visualize/02_pyecharts/render.html'"
      ]
     },
     "execution_count": 16,
     "metadata": {},
     "output_type": "execute_result"
    }
   ],
   "source": [
    "# 散点图 + 视觉映射配置（颜色）\n",
    "from pyecharts.charts import Scatter\n",
    "from pyecharts import options as opts\n",
    "\n",
    "num = ['星期一','星期二','星期三','星期四','星期五']\n",
    "L1 = [10,55,5,30,21]\n",
    "L2 = [20,25,35,35,12]\n",
    "\n",
    "scatter = (Scatter()\n",
    "           .add_xaxis(num)\n",
    "           .add_yaxis(\"火车站客流量\",L1)\n",
    "           .add_yaxis(\"汽车站客流量\",L2)\n",
    "           .set_global_opts(title_opts = opts.TitleOpts(title = \"Scatter-Visual(Size)\"),\n",
    "                            visualmap_opts = opts.VisualMapOpts(type_ = 'color',range_color = ['red','green'],max_ = 55,min_ = 5))\n",
    ")\n",
    "\n",
    "scatter.render()"
   ]
  },
  {
   "cell_type": "markdown",
   "id": "d7f8e836-9b40-44ad-bf39-58f3f24f085a",
   "metadata": {},
   "source": [
    "### 绘制雷达图"
   ]
  },
  {
   "cell_type": "code",
   "execution_count": 17,
   "id": "7a808789-5cd3-459e-85f0-9bbf95ae0c82",
   "metadata": {},
   "outputs": [
    {
     "data": {
      "text/plain": [
       "'/Users/zhaojunran/Documents/Python_data_visualize/02_pyecharts/render.html'"
      ]
     },
     "execution_count": 17,
     "metadata": {},
     "output_type": "execute_result"
    }
   ],
   "source": [
    "# 雷达图的绘制\n",
    "from pyecharts.charts import Radar\n",
    "from pyecharts import options as opts\n",
    "\n",
    "L1 = [78,91,123,78,82,67] # 链接雷达的三条线上的点/数值\n",
    "L2 = [89,101,127,88,86,75] # 链接雷达的三条线上的点/数值\n",
    "L3 = [86,93,101,84,90,73] # 链接雷达的三条线上的点/数值\n",
    "type = ['星期一','星期二','星期三','星期四','星期五','星期六'] #链接雷达的三条线上的点/数值\n",
    "data = [L1,L2,L3] # 这个list把三条线包起来\n",
    "\n",
    "radar = (Radar()\n",
    "         .add_schema(schema=[opts.RadarIndicatorItem(name=type[0],max_=130,min_=60), # 规定雷达的几个类型以及构成数值\n",
    "                      opts.RadarIndicatorItem(name=type[1],max_=130,min_=60),\n",
    "                      opts.RadarIndicatorItem(name=type[2],max_=130,min_=60),\n",
    "                      opts.RadarIndicatorItem(name=type[3],max_=130,min_=60),\n",
    "                      opts.RadarIndicatorItem(name=type[4],max_=130,min_=60),\n",
    "                      opts.RadarIndicatorItem(name=type[5],max_=130,min_=60)])\n",
    "         .add('',data)) # 把list加进来\n",
    "\n",
    "radar.render()"
   ]
  },
  {
   "cell_type": "markdown",
   "id": "cc02cf01-d42e-4836-bedc-a0972553320e",
   "metadata": {},
   "source": [
    "### 绘制树状图"
   ]
  },
  {
   "cell_type": "code",
   "execution_count": 18,
   "id": "2d80223d-03d6-4f4e-ae47-d0169f4740fd",
   "metadata": {},
   "outputs": [
    {
     "data": {
      "text/plain": [
       "'/Users/zhaojunran/Documents/Python_data_visualize/02_pyecharts/render.html'"
      ]
     },
     "execution_count": 18,
     "metadata": {},
     "output_type": "execute_result"
    }
   ],
   "source": [
    "# 基础树状图的绘制\n",
    "from pyecharts.charts import Tree\n",
    "from pyecharts import options as opts\n",
    "\n",
    "data = [{'name':'菊竹青训',\n",
    "    'children':[{'name':'长谷川逸子'},\n",
    "                {'name':'伊东丰雄','children':[{'name':'平田晃久'},\n",
    "                                           {'name':'妹岛和世','children':[{'name':'西泽立卫','children':[{'name':'石上纯也'}]}]},\n",
    "                                           {'name':'橘子组'}]},\n",
    "                {'name':'内藤广'}]\n",
    "    }]\n",
    "\n",
    "tree = (Tree()\n",
    "        .add('建筑师',data)\n",
    "        .set_global_opts(title_opts = opts.TitleOpts(title = '日本新陈代谢派的师承关系'))\n",
    ")\n",
    "\n",
    "tree.render()"
   ]
  },
  {
   "cell_type": "code",
   "execution_count": 19,
   "id": "5d07d6f6-4645-4b28-83a9-68c435bcbb67",
   "metadata": {},
   "outputs": [
    {
     "data": {
      "text/plain": [
       "'/Users/zhaojunran/Documents/Python_data_visualize/02_pyecharts/render.html'"
      ]
     },
     "execution_count": 19,
     "metadata": {},
     "output_type": "execute_result"
    }
   ],
   "source": [
    "# 复杂左右树状图的绘制\n",
    "from pyecharts.charts import Tree\n",
    "from pyecharts import options as opts\n",
    "\n",
    "import json\n",
    "with open ('jsonData.json','r',encoding = 'utf-8') as f:\n",
    "    j = json.load(f)\n",
    "\n",
    "tree = (Tree()\n",
    "        .add('',[j],collapse_interval=10)\n",
    "        .set_global_opts(title_opts = opts.TitleOpts(title = '复杂左右树状图的绘制'))\n",
    ")\n",
    "\n",
    "tree.render()"
   ]
  },
  {
   "cell_type": "code",
   "execution_count": 20,
   "id": "d081b677-4b71-48b8-8628-2535026af13a",
   "metadata": {},
   "outputs": [
    {
     "data": {
      "text/plain": [
       "'/Users/zhaojunran/Documents/Python_data_visualize/02_pyecharts/render.html'"
      ]
     },
     "execution_count": 20,
     "metadata": {},
     "output_type": "execute_result"
    }
   ],
   "source": [
    "# 复杂上下树状图的绘制\n",
    "from pyecharts.charts import Tree\n",
    "from pyecharts import options as opts\n",
    "\n",
    "import json\n",
    "with open ('jsonData.json','r',encoding = 'utf-8') as f:\n",
    "    j = json.load(f)\n",
    "\n",
    "tree = (Tree()\n",
    "        .add('',\n",
    "            [j],\n",
    "            collapse_interval = 5,\n",
    "            orient = 'RL',\n",
    "            label_opts = opts.LabelOpts(position = 'top', # 让label趋上\n",
    "                                        horizontal_align = 'left', # 水平的平行在右边对齐\n",
    "                                        vertical_align = 'middle', # 垂直的平行在中间\n",
    "                                        rotate = -30), # 旋转-90度\n",
    "            )\n",
    "        .set_global_opts(title_opts = opts.TitleOpts(title = '复杂上下树状图的绘制'))\n",
    ")\n",
    "\n",
    "tree.render()"
   ]
  },
  {
   "cell_type": "code",
   "execution_count": 22,
   "id": "5d27bb5c-eea5-40f3-a33c-3595aa10eada",
   "metadata": {},
   "outputs": [
    {
     "data": {
      "text/plain": [
       "'/Users/zhaojunran/Documents/Python_data_visualize/02_pyecharts/render.html'"
      ]
     },
     "execution_count": 22,
     "metadata": {},
     "output_type": "execute_result"
    }
   ],
   "source": [
    "# 环形树状图的绘制\n",
    "\n",
    "from pyecharts.charts import Tree\n",
    "from pyecharts import options as opts\n",
    "\n",
    "import json\n",
    "with open ('jsonData.json','r',encoding = 'utf-8') as f:\n",
    "    j = json.load(f)\n",
    "\n",
    "tree = (Tree()\n",
    "        .add(series_name = 'dandelion',\n",
    "             data = [j],\n",
    "             pos_top = '18%',\n",
    "             pos_bottom = '15%',\n",
    "             layout = 'radial',\n",
    "             symbol = 'Circle',\n",
    "             symbol_size = 7)\n",
    "        .set_global_opts(tooltip_opts = opts.TooltipOpts(trigger = 'item',trigger_on = 'mousemove'))\n",
    "       )\n",
    "\n",
    "tree.render()"
   ]
  },
  {
   "cell_type": "markdown",
   "id": "74472c40-3da3-491e-9819-0b436c05b32e",
   "metadata": {},
   "source": [
    "### 绘制桑基图"
   ]
  },
  {
   "cell_type": "code",
   "execution_count": 41,
   "id": "421d110f-35f0-457c-a7d3-b63778cfc158",
   "metadata": {},
   "outputs": [
    {
     "data": {
      "text/plain": [
       "'/Users/zhaojunran/Documents/Python_data_visualize/02_pyecharts/render.html'"
      ]
     },
     "execution_count": 41,
     "metadata": {},
     "output_type": "execute_result"
    }
   ],
   "source": [
    "# 桑基图的绘制\n",
    "from pyecharts.charts import Sankey\n",
    "from pyecharts import options as opts\n",
    "\n",
    "import json\n",
    "with open ('product.json','r',encoding = 'utf-8') as f:\n",
    "    j = json.load(f)\n",
    "\n",
    "sankey = (Sankey()\n",
    "          .add(series_name = '',\n",
    "               nodes = j['nodes'],\n",
    "               links = j['links'],\n",
    "               itemstyle_opts = opts.ItemStyleOpts(border_width = 1,border_color = 'white'),\n",
    "               linestyle_opt = opts.LineStyleOpts(color = 'source',curve = 0.5,opacity = 0.3),\n",
    "               tooltip_opts = opts.TooltipOpts(trigger = 'item',trigger_on = 'mousemove'))\n",
    "          .set_global_opts(title_opts=opts.TitleOpts(title=\"Sankey Diagram\"))\n",
    ")\n",
    "\n",
    "sankey.render()"
   ]
  },
  {
   "cell_type": "markdown",
   "id": "f8d74715-c282-4583-afd7-6791d3f8eff8",
   "metadata": {},
   "source": [
    "### 绘制三维柱状图"
   ]
  },
  {
   "cell_type": "code",
   "execution_count": 46,
   "id": "7aff9d17-5d9d-43f1-8a16-3ceb47812a93",
   "metadata": {},
   "outputs": [],
   "source": [
    "# 构建二维列表\n",
    "hours = [\"12a\",\"1a\",\"2a\",\"3a\",\"4a\",\"5a\",\"6a\",\"7a\",\"8a\",\"9a\",\"10a\",\"11a\",\"12p\",\"1p\",\"2p\",\"3p\",\"4p\",\"5p\",\"6p\",\"7p\",\"8p\",\"9p\",\"10p\",\"11p\"]\n",
    "days = [\"Saturday\", \"Friday\", \"Thursday\", \"Wednesday\", \"Tuesday\", \"Monday\", \"Sunday\"]\n",
    "data_2d = [[0, 0, 5],[0, 1, 1],[0, 2, 0],[0, 3, 0],[0, 4, 0],[0, 5, 0],[0, 6, 0],[0, 7, 0],[0, 8, 0],[0, 9, 0],[0, 10, 0],[0, 11, 2],\n",
    "        [0, 12, 4],[0, 13, 1],[0, 14, 1],[0, 15, 3],[0, 16, 4],[0, 17, 6],[0, 18, 4],[0, 19, 4],[0, 20, 3],[0, 21, 3],[0, 22, 2],\n",
    "        [0, 23, 5],[1, 0, 7],[1, 1, 0],[1, 2, 0],[1, 3, 0],[1, 4, 0],[1, 5, 0],[1, 6, 0],[1, 7, 0],[1, 8, 0],[1, 9, 0],[1, 10, 5],\n",
    "        [1, 11, 2],[1, 12, 2],[1, 13, 6],[1, 14, 9],[1, 15, 11],[1, 16, 6],[1, 17, 7],[1, 18, 8],[1, 19, 12],[1, 20, 5],[1, 21, 5],\n",
    "        [1, 22, 7],[1, 23, 2],[2, 0, 1],[2, 1, 1],[2, 2, 0],[2, 3, 0],[2, 4, 0],[2, 5, 0],[2, 6, 0],[2, 7, 0],[2, 8, 0],[2, 9, 0],\n",
    "        [2, 10, 3],[2, 11, 2],[2, 12, 1],[2, 13, 9],[2, 14, 8],[2, 15, 10],[2, 16, 6],[2, 17, 5],[2, 18, 5],[2, 19, 5],[2, 20, 7],\n",
    "        [2, 21, 4],[2, 22, 2],[2, 23, 4],[3, 0, 7],[3, 1, 3],[3, 2, 0],[3, 3, 0],[3, 4, 0],[3, 5, 0],[3, 6, 0],[3, 7, 0],[3, 8, 1],\n",
    "        [3, 9, 0],[3, 10, 5],[3, 11, 4],[3, 12, 7],[3, 13, 14],[3, 14, 13],[3, 15, 12],[3, 16, 9],[3, 17, 5],[3, 18, 5],[3, 19, 10],\n",
    "        [3, 20, 6],[3, 21, 4],[3, 22, 4],[3, 23, 1],[4, 0, 1],[4, 1, 3],[4, 2, 0],[4, 3, 0],[4, 4, 0],[4, 5, 1],[4, 6, 0],[4, 7, 0],\n",
    "        [4, 8, 0],[4, 9, 2],[4, 10, 4],[4, 11, 4],[4, 12, 2],[4, 13, 4],[4, 14, 4],[4, 15, 14],[4, 16, 12],[4, 17, 1],[4, 18, 8],\n",
    "        [4, 19, 5],[4, 20, 3],[4, 21, 7],[4, 22, 3],[4, 23, 0],[5, 0, 2],[5, 1, 1],[5, 2, 0],[5, 3, 3],[5, 4, 0],[5, 5, 0],[5, 6, 0],\n",
    "        [5, 7, 0],[5, 8, 2],[5, 9, 0],[5, 10, 4],[5, 11, 1],[5, 12, 5],[5, 13, 10],[5, 14, 5],[5, 15, 7],[5, 16, 11],[5, 17, 6],\n",
    "        [5, 18, 0],[5, 19, 5],[5, 20, 3],[5, 21, 4],[5, 22, 2],[5, 23, 0],[6, 0, 1],[6, 1, 0],[6, 2, 0],[6, 3, 0],[6, 4, 0],[6, 5, 0],\n",
    "        [6, 6, 0],[6, 7, 0],[6, 8, 0],[6, 9, 0],[6, 10, 1],[6, 11, 0],[6, 12, 2],[6, 13, 1],[6, 14, 3],[6, 15, 4],[6, 16, 0],\n",
    "        [6, 17, 0],[6, 18, 0],[6, 19, 0],[6, 20, 1],[6, 21, 2],[6, 22, 2],[6, 23, 6]]\n",
    "data_list = [[d[1], d[0], d[2]] for d in data_2d]"
   ]
  },
  {
   "cell_type": "code",
   "execution_count": 48,
   "id": "d13f4be8-9faf-43c1-bf1f-5aa598eb4e80",
   "metadata": {
    "scrolled": true
   },
   "outputs": [
    {
     "data": {
      "text/plain": [
       "[[0, 0, 5],\n",
       " [1, 0, 1],\n",
       " [2, 0, 0],\n",
       " [3, 0, 0],\n",
       " [4, 0, 0],\n",
       " [5, 0, 0],\n",
       " [6, 0, 0],\n",
       " [7, 0, 0],\n",
       " [8, 0, 0],\n",
       " [9, 0, 0],\n",
       " [10, 0, 0],\n",
       " [11, 0, 2],\n",
       " [12, 0, 4],\n",
       " [13, 0, 1],\n",
       " [14, 0, 1],\n",
       " [15, 0, 3],\n",
       " [16, 0, 4],\n",
       " [17, 0, 6],\n",
       " [18, 0, 4],\n",
       " [19, 0, 4],\n",
       " [20, 0, 3],\n",
       " [21, 0, 3],\n",
       " [22, 0, 2],\n",
       " [23, 0, 5],\n",
       " [0, 1, 7],\n",
       " [1, 1, 0],\n",
       " [2, 1, 0],\n",
       " [3, 1, 0],\n",
       " [4, 1, 0],\n",
       " [5, 1, 0],\n",
       " [6, 1, 0],\n",
       " [7, 1, 0],\n",
       " [8, 1, 0],\n",
       " [9, 1, 0],\n",
       " [10, 1, 5],\n",
       " [11, 1, 2],\n",
       " [12, 1, 2],\n",
       " [13, 1, 6],\n",
       " [14, 1, 9],\n",
       " [15, 1, 11],\n",
       " [16, 1, 6],\n",
       " [17, 1, 7],\n",
       " [18, 1, 8],\n",
       " [19, 1, 12],\n",
       " [20, 1, 5],\n",
       " [21, 1, 5],\n",
       " [22, 1, 7],\n",
       " [23, 1, 2],\n",
       " [0, 2, 1],\n",
       " [1, 2, 1],\n",
       " [2, 2, 0],\n",
       " [3, 2, 0],\n",
       " [4, 2, 0],\n",
       " [5, 2, 0],\n",
       " [6, 2, 0],\n",
       " [7, 2, 0],\n",
       " [8, 2, 0],\n",
       " [9, 2, 0],\n",
       " [10, 2, 3],\n",
       " [11, 2, 2],\n",
       " [12, 2, 1],\n",
       " [13, 2, 9],\n",
       " [14, 2, 8],\n",
       " [15, 2, 10],\n",
       " [16, 2, 6],\n",
       " [17, 2, 5],\n",
       " [18, 2, 5],\n",
       " [19, 2, 5],\n",
       " [20, 2, 7],\n",
       " [21, 2, 4],\n",
       " [22, 2, 2],\n",
       " [23, 2, 4],\n",
       " [0, 3, 7],\n",
       " [1, 3, 3],\n",
       " [2, 3, 0],\n",
       " [3, 3, 0],\n",
       " [4, 3, 0],\n",
       " [5, 3, 0],\n",
       " [6, 3, 0],\n",
       " [7, 3, 0],\n",
       " [8, 3, 1],\n",
       " [9, 3, 0],\n",
       " [10, 3, 5],\n",
       " [11, 3, 4],\n",
       " [12, 3, 7],\n",
       " [13, 3, 14],\n",
       " [14, 3, 13],\n",
       " [15, 3, 12],\n",
       " [16, 3, 9],\n",
       " [17, 3, 5],\n",
       " [18, 3, 5],\n",
       " [19, 3, 10],\n",
       " [20, 3, 6],\n",
       " [21, 3, 4],\n",
       " [22, 3, 4],\n",
       " [23, 3, 1],\n",
       " [0, 4, 1],\n",
       " [1, 4, 3],\n",
       " [2, 4, 0],\n",
       " [3, 4, 0],\n",
       " [4, 4, 0],\n",
       " [5, 4, 1],\n",
       " [6, 4, 0],\n",
       " [7, 4, 0],\n",
       " [8, 4, 0],\n",
       " [9, 4, 2],\n",
       " [10, 4, 4],\n",
       " [11, 4, 4],\n",
       " [12, 4, 2],\n",
       " [13, 4, 4],\n",
       " [14, 4, 4],\n",
       " [15, 4, 14],\n",
       " [16, 4, 12],\n",
       " [17, 4, 1],\n",
       " [18, 4, 8],\n",
       " [19, 4, 5],\n",
       " [20, 4, 3],\n",
       " [21, 4, 7],\n",
       " [22, 4, 3],\n",
       " [23, 4, 0],\n",
       " [0, 5, 2],\n",
       " [1, 5, 1],\n",
       " [2, 5, 0],\n",
       " [3, 5, 3],\n",
       " [4, 5, 0],\n",
       " [5, 5, 0],\n",
       " [6, 5, 0],\n",
       " [7, 5, 0],\n",
       " [8, 5, 2],\n",
       " [9, 5, 0],\n",
       " [10, 5, 4],\n",
       " [11, 5, 1],\n",
       " [12, 5, 5],\n",
       " [13, 5, 10],\n",
       " [14, 5, 5],\n",
       " [15, 5, 7],\n",
       " [16, 5, 11],\n",
       " [17, 5, 6],\n",
       " [18, 5, 0],\n",
       " [19, 5, 5],\n",
       " [20, 5, 3],\n",
       " [21, 5, 4],\n",
       " [22, 5, 2],\n",
       " [23, 5, 0],\n",
       " [0, 6, 1],\n",
       " [1, 6, 0],\n",
       " [2, 6, 0],\n",
       " [3, 6, 0],\n",
       " [4, 6, 0],\n",
       " [5, 6, 0],\n",
       " [6, 6, 0],\n",
       " [7, 6, 0],\n",
       " [8, 6, 0],\n",
       " [9, 6, 0],\n",
       " [10, 6, 1],\n",
       " [11, 6, 0],\n",
       " [12, 6, 2],\n",
       " [13, 6, 1],\n",
       " [14, 6, 3],\n",
       " [15, 6, 4],\n",
       " [16, 6, 0],\n",
       " [17, 6, 0],\n",
       " [18, 6, 0],\n",
       " [19, 6, 0],\n",
       " [20, 6, 1],\n",
       " [21, 6, 2],\n",
       " [22, 6, 2],\n",
       " [23, 6, 6]]"
      ]
     },
     "execution_count": 48,
     "metadata": {},
     "output_type": "execute_result"
    }
   ],
   "source": [
    "data_list"
   ]
  },
  {
   "cell_type": "code",
   "execution_count": 47,
   "id": "ac66d105-486d-46f4-98e4-8993b85177c5",
   "metadata": {},
   "outputs": [
    {
     "data": {
      "text/plain": [
       "'/Users/zhaojunran/Documents/Python_data_visualize/02_pyecharts/render.html'"
      ]
     },
     "execution_count": 47,
     "metadata": {},
     "output_type": "execute_result"
    }
   ],
   "source": [
    "# 绘制三维柱状图\n",
    "from pyecharts.charts import Bar3D\n",
    "from pyecharts import options as opts\n",
    "c = (Bar3D()\n",
    "     .add(series_name = '',\n",
    "          data = data_list,\n",
    "          xaxis3d_opts = opts.Axis3DOpts(type_ = 'category',data = hours),\n",
    "          yaxis3d_opts = opts.Axis3DOpts(type_ = 'category',data = days),\n",
    "          zaxis3d_opts = opts.Axis3DOpts(type_ = 'value'))\n",
    "     .set_global_opts(visualmap_opts = opts.VisualMapOpts(max_=30,\n",
    "                                                         range_color = [\"#313695\",\"#4575b4\",\"#74add1\",\"#abd9e9\",\"#e0f3f8\",\"#ffffbf\",\"#fee090\",\"#fdae61\",\"#f46d43\",\"#d73027\",\"#a50026\"]))\n",
    ")\n",
    "\n",
    "c.render()"
   ]
  },
  {
   "cell_type": "code",
   "execution_count": null,
   "id": "9ed2da73-7e34-4d57-8df4-78b82d716634",
   "metadata": {},
   "outputs": [],
   "source": []
  }
 ],
 "metadata": {
  "kernelspec": {
   "display_name": "Python [conda env:base] *",
   "language": "python",
   "name": "conda-base-py"
  },
  "language_info": {
   "codemirror_mode": {
    "name": "ipython",
    "version": 3
   },
   "file_extension": ".py",
   "mimetype": "text/x-python",
   "name": "python",
   "nbconvert_exporter": "python",
   "pygments_lexer": "ipython3",
   "version": "3.13.5"
  }
 },
 "nbformat": 4,
 "nbformat_minor": 5
}
